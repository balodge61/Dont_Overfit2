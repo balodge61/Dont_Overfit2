{
 "cells": [
  {
   "cell_type": "code",
   "execution_count": 1,
   "metadata": {},
   "outputs": [],
   "source": [
    "import pandas as pd\n",
    "import numpy as np\n",
    "import warnings\n",
    "warnings.filterwarnings(\"ignore\",category= DeprecationWarning)\n",
    "warnings.filterwarnings(\"ignore\")\n",
    "import random\n",
    "from sklearn import  metrics\n",
    "from sklearn.metrics import accuracy_score\n",
    "from sklearn.metrics import roc_curve, auc, roc_auc_score\n",
    "from sklearn.metrics import confusion_matrix\n",
    "from sklearn.feature_selection import RFE\n",
    "from sklearn.preprocessing import StandardScaler\n",
    "from sklearn.linear_model import LogisticRegression,Lasso , Ridge\n",
    "from sklearn.model_selection import GridSearchCV, cross_val_score\n",
    "from sklearn.model_selection import train_test_split\n",
    "from imblearn.over_sampling import SMOTE\n",
    "from sklearn.metrics import recall_score"
   ]
  },
  {
   "cell_type": "code",
   "execution_count": 2,
   "metadata": {},
   "outputs": [],
   "source": [
    "train_df=pd.read_csv('train.csv')\n",
    "test_df=pd.read_csv('test.csv')\n",
    "submission_df = pd.read_csv('sample_submission.csv')"
   ]
  },
  {
   "cell_type": "code",
   "execution_count": 3,
   "metadata": {},
   "outputs": [],
   "source": [
    "#train\n",
    "target_col = [\"target\"]\n",
    "id_dataset = [\"id\"]\n",
    "#numerical columns\n",
    "num_cols   = [x for x in train_df.columns if x not in target_col + id_dataset]\n",
    "\n",
    "#Scaling Numerical columns\n",
    "std = StandardScaler()\n",
    "scaled = std.fit_transform(train_df[num_cols])\n",
    "scaled = pd.DataFrame(scaled,columns=num_cols)\n",
    "\n",
    "#dropping original values merging scaled values for numerical columns\n",
    "df_data_og = train_df.copy()\n",
    "data = train_df.drop(columns = num_cols,axis = 1)\n",
    "data = data.merge(scaled,left_index=True,right_index=True,how = \"left\")\n",
    "data = data.drop(columns = ['id'],axis = 1)\n",
    "\n",
    "#test \n",
    "target_col = [\"target\"]\n",
    "id_dataset = [\"id\"]\n",
    "#numerical columns\n",
    "num_cols   = [x for x in test_df.columns if x not in target_col + id_dataset]\n",
    "\n",
    "#Scaling Numerical columns\n",
    "std = StandardScaler()\n",
    "scaled = std.fit_transform(test_df[num_cols])\n",
    "scaled = pd.DataFrame(scaled,columns=num_cols)\n",
    "\n",
    "#dropping original values merging scaled values for numerical columns\n",
    "df_test_og = test_df.copy()\n",
    "test = test_df.drop(columns = num_cols,axis = 1)\n",
    "test = test.merge(scaled,left_index=True,right_index=True,how = \"left\")\n",
    "test = test.drop(columns = ['id'],axis = 1)"
   ]
  },
  {
   "cell_type": "code",
   "execution_count": 4,
   "metadata": {},
   "outputs": [
    {
     "name": "stdout",
     "output_type": "stream",
     "text": [
      "target  33     0.373608\n",
      "        65     0.293846\n",
      "32      75     0.259315\n",
      "101     193    0.252825\n",
      "22      28     0.246062\n",
      "dtype: float64\n",
      "target    1.000000\n",
      "33        0.373608\n",
      "65        0.293846\n",
      "217       0.207215\n",
      "117       0.197496\n",
      "dtype: float64\n"
     ]
    }
   ],
   "source": [
    "#### Check correlation and drop ####\n",
    "\n",
    "corr_matrix = pd.DataFrame(data)\n",
    "\n",
    "corr = corr_matrix.corr().abs()\n",
    "corr = (corr.where(np.triu(np.ones(corr.shape), k=1).astype(np.bool))\n",
    "                 .stack()\n",
    "                 .sort_values(ascending=False))\n",
    "print(corr.head(5))\n",
    "\n",
    "#### Also check correlation to target variable ####\n",
    "cor_t = pd.DataFrame(data).apply(lambda x: x.corr(data.target)).abs().sort_values(ascending=False)\n",
    "print(cor_t.head(5))"
   ]
  },
  {
   "cell_type": "code",
   "execution_count": 5,
   "metadata": {},
   "outputs": [],
   "source": [
    "# Def X and Y\n",
    "\n",
    "#data = data.sample(frac=1)\n",
    "\n",
    "x = data.drop('target', 1)\n",
    "y = data['target']\n",
    "\n",
    "seed = 12\n",
    "\n",
    "x_train, x_val, y_train, y_val = train_test_split(x, y, test_size = .2, random_state=seed)\n",
    "\n",
    "sm = SMOTE(random_state=12, ratio = 1.0)\n",
    "x_train_res, y_train_res = sm.fit_sample(x_train, y_train)\n",
    "\n",
    "#x_train, x_test, y_train, y_test= train_test_split(x, y, test_size=.2, random_state=seed)"
   ]
  },
  {
   "cell_type": "code",
   "execution_count": 6,
   "metadata": {},
   "outputs": [
    {
     "name": "stdout",
     "output_type": "stream",
     "text": [
      "Validation Results\n",
      "0.62\n",
      "0.7857142857142857\n",
      "0.924\n",
      "0.9625\n",
      "pred:  [[0.44 0.56]\n",
      " [0.24 0.76]\n",
      " [0.44 0.56]\n",
      " ...\n",
      " [0.56 0.44]\n",
      " [0.36 0.64]\n",
      " [0.56 0.44]]\n",
      "cv scores:  [0.68 0.64 0.6  0.68 0.64 0.64 0.68 0.56 0.72 0.56]\n",
      "avg of the cv scores:  0.64\n",
      "stdev of the cv scores:  0.0506\n",
      "ROC_AUC is:  0.9836\n",
      "Sum of probabilites:  [ 8159.48 11590.52]\n"
     ]
    }
   ],
   "source": [
    "from sklearn.ensemble import RandomForestClassifier\n",
    "\n",
    "clf_rf = RandomForestClassifier(n_estimators=25, random_state=seed)\n",
    "clf_rf.fit(x_train_res, y_train_res)\n",
    "\n",
    "print('Validation Results')\n",
    "print(clf_rf.score(x_val, y_val))\n",
    "print(recall_score(y_val, clf_rf.predict(x_val)))\n",
    "print(clf_rf.score(x, y))\n",
    "print(recall_score(y, clf_rf.predict(x)))\n",
    "\n",
    "pred = clf_rf.predict_proba(test)\n",
    "print('pred: ',pred)\n",
    "\n",
    "model_score = cross_val_score(clf_rf, x, y, cv=10, )\n",
    "print('cv scores: ',model_score)\n",
    "print('avg of the cv scores: ',model_score.mean().round(4))\n",
    "print('stdev of the cv scores: ',model_score.std().round(4))\n",
    "\n",
    "prediction = pd.DataFrame(clf_rf.predict_proba(x)).drop(columns = 0, axis = 1)\n",
    "print('ROC_AUC is: ',roc_auc_score(y, prediction).round(4))\n",
    "print('Sum of probabilites: ',sum(pred))\n",
    "#print(logreg.coef_)"
   ]
  },
  {
   "cell_type": "code",
   "execution_count": 7,
   "metadata": {},
   "outputs": [
    {
     "name": "stdout",
     "output_type": "stream",
     "text": [
      "Fitting 3 folds for each of 28 candidates, totalling 84 fits\n"
     ]
    },
    {
     "name": "stderr",
     "output_type": "stream",
     "text": [
      "[Parallel(n_jobs=-1)]: Using backend LokyBackend with 8 concurrent workers.\n",
      "[Parallel(n_jobs=-1)]: Done  34 tasks      | elapsed:    4.6s\n",
      "[Parallel(n_jobs=-1)]: Done  69 out of  84 | elapsed:    5.0s remaining:    1.0s\n",
      "[Parallel(n_jobs=-1)]: Done  84 out of  84 | elapsed:    5.1s finished\n",
      "C:\\Users\\balod\\AppData\\Local\\Continuum\\anaconda3\\lib\\site-packages\\sklearn\\model_selection\\_search.py:841: DeprecationWarning: The default of the `iid` parameter will change from True to False in version 0.22 and will be removed in 0.24. This will change numeric results when test-set sizes are unequal.\n",
      "  DeprecationWarning)\n"
     ]
    },
    {
     "name": "stdout",
     "output_type": "stream",
     "text": [
      "Best Score:  0.8069269042627533\n",
      "Best Parameters:  {'C': 0.1, 'class_weight': 'balanced', 'penalty': 'l1', 'solver': 'liblinear'}\n",
      "pred:  [[0.50014807 0.49985193]\n",
      " [0.41717814 0.58282186]\n",
      " [0.27595924 0.72404076]\n",
      " ...\n",
      " [0.74214748 0.25785252]\n",
      " [0.08625468 0.91374532]\n",
      " [0.68912924 0.31087076]]\n",
      "cv scores:  [0.80612245 0.95918367 0.77514793 0.81065089 0.95857988 0.9408284\n",
      " 0.94674556 1.         1.         0.9704142 ]\n",
      "avg of the cv scores:  0.9168\n",
      "stdev of the cv scores:  0.0808\n",
      "ROC_AUC is:  0.9827\n",
      "Sum of probabilites:  [ 9223.61832321 10526.38167679]\n"
     ]
    }
   ],
   "source": [
    "logreg=LogisticRegression(random_state=seed)\n",
    "param_grid={ 'class_weight': ['balanced', None],\n",
    "              'C':[0.001, 0.01, 0.1, 1, 10, 100, 1000],\n",
    "             'solver' : ['liblinear'],\n",
    "              'penalty':['l1','l2']\n",
    "           }\n",
    "grid=GridSearchCV(logreg, param_grid = param_grid , scoring = 'roc_auc', verbose = 1, n_jobs = -1)\n",
    "grid.fit(x,y)\n",
    "\n",
    "print('Best Score: ', grid.best_score_)\n",
    "print('Best Parameters: ', grid.best_params_)\n",
    "\n",
    "logreg = LogisticRegression(random_state = seed, \n",
    "                             C = .1, class_weight = 'balanced',\n",
    "                             penalty = 'l1', solver = 'liblinear')\n",
    "logreg.fit(x_train_res,y_train_res)\n",
    "pred = logreg.predict_proba(test)\n",
    "print('pred: ',pred)\n",
    "\n",
    "model_score = cross_val_score(logreg, x_train_res, y_train_res, cv=10,scoring='roc_auc' )\n",
    "print('cv scores: ',model_score)\n",
    "print('avg of the cv scores: ',model_score.mean().round(4))\n",
    "print('stdev of the cv scores: ',model_score.std().round(4))\n",
    "\n",
    "prediction = pd.DataFrame(logreg.predict_proba(x_train_res)).drop(columns = 0, axis = 1)\n",
    "print('ROC_AUC is: ',roc_auc_score(y_train_res, prediction).round(4))\n",
    "print('Sum of probabilites: ',sum(pred))\n",
    "#print(logreg.coef_)"
   ]
  },
  {
   "cell_type": "code",
   "execution_count": 8,
   "metadata": {},
   "outputs": [
    {
     "name": "stdout",
     "output_type": "stream",
     "text": [
      "pred:  [[0.47744549 0.52255451]\n",
      " [0.5430961  0.4569039 ]\n",
      " [0.44294279 0.55705721]\n",
      " ...\n",
      " [0.4438645  0.5561355 ]\n",
      " [0.34842724 0.65157276]\n",
      " [0.44154912 0.55845088]]\n",
      "cv scores:  [0.87755102 0.75510204 0.87573964 0.83431953 0.8816568  0.97633136\n",
      " 0.98224852 0.97633136 1.         0.96449704]\n",
      "avg of the cv scores:  0.9124\n",
      "stdev of the cv scores:  0.076\n",
      "ROC_AUC is:  1.0\n",
      "Sum of probabilites:  [ 9543.23835087 10206.76164913]\n"
     ]
    }
   ],
   "source": [
    "from sklearn.ensemble import AdaBoostClassifier, GradientBoostingClassifier\n",
    "logreg = LogisticRegression(random_state = seed, \n",
    "                             C = .1, class_weight = 'balanced',\n",
    "                             penalty = 'l1', solver = 'liblinear')\n",
    "abc = AdaBoostClassifier(base_estimator=LogisticRegression(random_state=seed),random_state=seed)\n",
    "\n",
    "abc.fit(x_train_res,y_train_res)\n",
    "pred = abc.predict_proba(test)\n",
    "print('pred: ',pred)\n",
    "\n",
    "model_score = cross_val_score(abc, x_train_res, y_train_res, cv=10,scoring='roc_auc' )\n",
    "print('cv scores: ',model_score)\n",
    "print('avg of the cv scores: ',model_score.mean().round(4))\n",
    "print('stdev of the cv scores: ',model_score.std().round(4))\n",
    "\n",
    "prediction = pd.DataFrame(abc.predict_proba(x_train_res)).drop(columns = 0, axis = 1)\n",
    "print('ROC_AUC is: ',roc_auc_score(y_train_res, prediction).round(4))\n",
    "print('Sum of probabilites: ',sum(pred))\n",
    "#print(logreg.coef_)"
   ]
  },
  {
   "cell_type": "code",
   "execution_count": 9,
   "metadata": {},
   "outputs": [
    {
     "name": "stdout",
     "output_type": "stream",
     "text": [
      "Fitting 3 folds for each of 5 candidates, totalling 15 fits\n",
      "Best Score:  0.6989196366177498\n",
      "Best Parameters:  {'C': 0.001}\n",
      "pred:  [1. 0. 0. ... 1. 1. 0.]\n"
     ]
    },
    {
     "name": "stderr",
     "output_type": "stream",
     "text": [
      "[Parallel(n_jobs=-1)]: Using backend LokyBackend with 8 concurrent workers.\n",
      "[Parallel(n_jobs=-1)]: Done  15 out of  15 | elapsed:    0.1s finished\n",
      "C:\\Users\\balod\\AppData\\Local\\Continuum\\anaconda3\\lib\\site-packages\\sklearn\\model_selection\\_search.py:841: DeprecationWarning: The default of the `iid` parameter will change from True to False in version 0.22 and will be removed in 0.24. This will change numeric results when test-set sizes are unequal.\n",
      "  DeprecationWarning)\n"
     ]
    },
    {
     "name": "stdout",
     "output_type": "stream",
     "text": [
      "cv scores:  [0.76 0.6  0.6  0.64 0.8  0.56 0.64 0.64 0.68 0.68]\n",
      "avg of the cv scores:  0.66\n",
      "stdev of the cv scores:  0.0699\n",
      "ROC_AUC is:  0.9844\n",
      "Sum of probabilites:  12378.0\n"
     ]
    }
   ],
   "source": [
    "from sklearn.svm import LinearSVC\n",
    "\n",
    "model = LinearSVC(random_state=seed)\n",
    "param_grid={'C':[0.001, 0.01, 0.1, 1, 10],\n",
    "            #'penalty':['l1','l2']\n",
    "           }\n",
    "grid=GridSearchCV(model, param_grid = param_grid , scoring = 'roc_auc', verbose = 1, n_jobs = -1)\n",
    "grid.fit(x,y)\n",
    "\n",
    "print('Best Score: ', grid.best_score_)\n",
    "print('Best Parameters: ', grid.best_params_)\n",
    "\n",
    "model = LinearSVC(random_state = seed, C = .001,)\n",
    "model.fit(x,y)\n",
    "pred = model.predict(test)\n",
    "print('pred: ',pred)\n",
    "\n",
    "model_score = cross_val_score(model, x, y, cv=10, )\n",
    "print('cv scores: ',model_score)\n",
    "print('avg of the cv scores: ',model_score.mean().round(4))\n",
    "print('stdev of the cv scores: ',model_score.std().round(4))\n",
    "\n",
    "prediction = pd.DataFrame(model.predict(x))\n",
    "print('ROC_AUC is: ',roc_auc_score(y, prediction).round(4))\n",
    "print('Sum of probabilites: ',sum(pred))\n",
    "#print(logreg.coef_)"
   ]
  },
  {
   "cell_type": "code",
   "execution_count": 13,
   "metadata": {},
   "outputs": [
    {
     "name": "stdout",
     "output_type": "stream",
     "text": [
      "LR \t cv mean:  0.7887 \t cv std:  12.9 % \t AUC:  1.0 \t Accuracy:  1.0\n",
      "LDA \t cv mean:  0.6355 \t cv std:  15.1 % \t AUC:  1.0 \t Accuracy:  1.0\n",
      "KNN \t cv mean:  0.6546 \t cv std:  17.49 % \t AUC:  0.65 \t Accuracy:  0.72\n",
      "TREE \t cv mean:  0.605 \t cv std:  15.6 % \t AUC:  1.0 \t Accuracy:  1.0\n",
      "NB \t cv mean:  0.725 \t cv std:  12.24 % \t AUC:  0.9851 \t Accuracy:  0.984\n",
      "SVM \t cv mean:  0.7962 \t cv std:  12.93 % \t AUC:  1.0 \t Accuracy:  1.0\n",
      "LIN \t cv mean:  0.7942 \t cv std:  12.2 % \t AUC:  1.0 \t Accuracy:  1.0\n",
      "SIG \t cv mean:  0.7836 \t cv std:  14.26 % \t AUC:  0.8375 \t Accuracy:  0.876\n",
      "POLY \t cv mean:  0.7225 \t cv std:  17.7 % \t AUC:  1.0 \t Accuracy:  1.0\n",
      "BAG \t cv mean:  0.6308 \t cv std:  17.04 % \t AUC:  0.9913 \t Accuracy:  0.992\n",
      "QDA \t cv mean:  0.5755 \t cv std:  12.370000000000001 % \t AUC:  1.0 \t Accuracy:  1.0\n",
      "RF \t cv mean:  0.5956 \t cv std:  22.28 % \t AUC:  0.9944 \t Accuracy:  0.996\n",
      "ADA \t cv mean:  0.7891 \t cv std:  13.700000000000001 % \t AUC:  0.9938 \t Accuracy:  0.992\n",
      "GBC \t cv mean:  0.7349 \t cv std:  13.83 % \t AUC:  1.0 \t Accuracy:  1.0\n",
      "XGB \t cv mean:  0.7239 \t cv std:  14.19 % \t AUC:  1.0 \t Accuracy:  1.0\n",
      "LGBM \t cv mean:  0.7204 \t cv std:  14.14 % \t AUC:  1.0 \t Accuracy:  1.0\n"
     ]
    },
    {
     "data": {
      "image/png": "[encoded data removed]",
      "text/plain": [
       "<matplotlib.figure.Figure at 0x23c54106e48>"
      ]
     },
     "metadata": {},
     "output_type": "display_data"
    }
   ],
   "source": [
    "from sklearn.linear_model import LogisticRegression\n",
    "from sklearn.tree import DecisionTreeClassifier\n",
    "from sklearn.neighbors import KNeighborsClassifier\n",
    "from sklearn.discriminant_analysis import LinearDiscriminantAnalysis\n",
    "from sklearn.naive_bayes import GaussianNB\n",
    "from sklearn.svm import SVC\n",
    "from sklearn.discriminant_analysis import QuadraticDiscriminantAnalysis\n",
    "from sklearn.ensemble import AdaBoostClassifier, GradientBoostingClassifier\n",
    "from sklearn.ensemble import RandomForestClassifier\n",
    "from sklearn.ensemble import BaggingClassifier\n",
    "import xgboost\n",
    "from lightgbm import LGBMClassifier\n",
    "import matplotlib.pyplot as plt\n",
    "from sklearn import model_selection\n",
    "\n",
    "models = []\n",
    "models.append(('LR', LogisticRegression(random_state=seed)))\n",
    "models.append(('LDA', LinearDiscriminantAnalysis()))\n",
    "models.append(('KNN', KNeighborsClassifier(n_neighbors= 20)))\n",
    "models.append(('TREE', DecisionTreeClassifier(random_state=seed)))\n",
    "models.append(('NB', GaussianNB()))\n",
    "models.append(('SVM', SVC(random_state=seed)))\n",
    "models.append(('LIN',SVC(random_state=seed,kernel='linear')))\n",
    "models.append(('SIG',SVC(random_state=seed,kernel='sigmoid')))\n",
    "models.append(('POLY',SVC(random_state=seed,kernel='poly')))\n",
    "models.append(('BAG',BaggingClassifier()))\n",
    "models.append(('QDA',QuadraticDiscriminantAnalysis()))\n",
    "models.append(('RF', RandomForestClassifier(random_state=seed)))\n",
    "models.append(('ADA', AdaBoostClassifier(base_estimator=LogisticRegression(random_state=seed))))\n",
    "models.append(('GBC', GradientBoostingClassifier(random_state=seed)))\n",
    "models.append(('XGB', xgboost.XGBClassifier()))\n",
    "models.append(('LGBM', LGBMClassifier()))\n",
    "\n",
    "seed = 9\n",
    "\n",
    "results = []\n",
    "names = []\n",
    "scoring = 'roc_auc'\n",
    "for name, model in models:\n",
    "    kfold = model_selection.KFold(n_splits=10, random_state=seed)\n",
    "    cv_results = cross_val_score(model, x, y, cv=kfold, scoring=scoring)\n",
    "    model.fit(x,y)\n",
    "    pred = model.predict(test)\n",
    "    prediction = pd.DataFrame(model.predict(x))\n",
    "    results.append(cv_results.round(4))\n",
    "    names.append(name)\n",
    "    roc_auc = roc_auc_score(y, prediction).round(4)\n",
    "    rel_std = cv_results.std()/cv_results.mean()\n",
    "    accuracy = accuracy_score(y, prediction)\n",
    "    print(name,'\\t cv mean: ',cv_results.mean().round(4), \n",
    "          '\\t cv std: ',rel_std.round(4)*100,'%',\n",
    "          '\\t AUC: ',roc_auc,\n",
    "         '\\t Accuracy: ',accuracy)\n",
    "\n",
    "    # boxplot algorithm comparison\n",
    "fig = plt.figure()\n",
    "fig.suptitle('Algorithm Comparison')\n",
    "ax = fig.add_subplot(111)\n",
    "plt.boxplot(results)\n",
    "ax.set_xticklabels(names)\n",
    "plt.show()"
   ]
  },
  {
   "cell_type": "code",
   "execution_count": 11,
   "metadata": {},
   "outputs": [
    {
     "name": "stdout",
     "output_type": "stream",
     "text": [
      "Requirement already satisfied: lightgbm in c:\\users\\balod\\appdata\\local\\continuum\\anaconda3\\lib\\site-packages (2.2.3)\n",
      "Requirement already satisfied: numpy in c:\\users\\balod\\appdata\\local\\continuum\\anaconda3\\lib\\site-packages (from lightgbm) (1.14.0)\n",
      "Requirement already satisfied: scipy in c:\\users\\balod\\appdata\\local\\continuum\\anaconda3\\lib\\site-packages (from lightgbm) (1.0.0)\n",
      "Requirement already satisfied: scikit-learn in c:\\users\\balod\\appdata\\local\\continuum\\anaconda3\\lib\\site-packages (from lightgbm) (0.20.2)\n"
     ]
    }
   ],
   "source": [
    "!pip install lightgbm"
   ]
  },
  {
   "cell_type": "code",
   "execution_count": 12,
   "metadata": {},
   "outputs": [],
   "source": [
    "selector = abc\n",
    "\n",
    "submission = pd.read_csv('submission.csv')\n",
    "final_test = test\n",
    "submission['target'] = selector.predict_proba(final_test)\n",
    "submission.to_csv('submission.csv', index=False)"
   ]
  }
 ],
 "metadata": {
  "kernelspec": {
   "display_name": "Python 3",
   "language": "python",
   "name": "python3"
  },
  "language_info": {
   "codemirror_mode": {
    "name": "ipython",
    "version": 3
   },
   "file_extension": ".py",
   "mimetype": "text/x-python",
   "name": "python",
   "nbconvert_exporter": "python",
   "pygments_lexer": "ipython3",
   "version": "3.6.4"
  }
 },
 "nbformat": 4,
 "nbformat_minor": 2
}
